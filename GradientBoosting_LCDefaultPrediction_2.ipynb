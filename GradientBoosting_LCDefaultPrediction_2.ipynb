{
 "cells": [
  {
   "cell_type": "markdown",
   "metadata": {},
   "source": [
    "# Gradient Boosting Model - LC Loan Data Default Preiciton"
   ]
  },
  {
   "cell_type": "markdown",
   "metadata": {},
   "source": [
    "Grdient Boosting is a popular model in recent times for its powerful and robust structure.<br>It uses the gradient descent as its loss function.  "
   ]
  },
  {
   "cell_type": "code",
   "execution_count": 24,
   "metadata": {},
   "outputs": [],
   "source": [
    "#GBM LC - Deep Borkar\n",
    "import pandas as pd\n",
    "import numpy as np\n",
    "import matplotlib.pyplot as plt\n",
    "import random\n",
    "import pickle\n",
    "from sklearn import ensemble\n",
    "\n",
    "\n",
    "from tqdm import tqdm_notebook as tqdm\n",
    "import warnings\n",
    "warnings.filterwarnings('ignore')"
   ]
  },
  {
   "cell_type": "code",
   "execution_count": 25,
   "metadata": {},
   "outputs": [],
   "source": [
    "def save_csv(df, name= 'default_name' + str(random.randint(1,100))):\n",
    "    file = '/' + name + '.csv'\n",
    "    df.to_csv(file, index=False)\n",
    "    \n",
    "def save_model(model, ver):\n",
    "    file = 'models/' + \"GBM_\" + str(model.n_estimators)+ \"_\"+str(ver) + '.sav'\n",
    "    pickle.dump(model, open(file, 'wb'))\n",
    "\n",
    "def load_model(name):\n",
    "    name = 'models/' + name\n",
    "    return pickle.load(open(name, 'rb'))"
   ]
  },
  {
   "cell_type": "code",
   "execution_count": 26,
   "metadata": {},
   "outputs": [],
   "source": [
    "model_data = pd.read_csv('data/existing_customers.csv', index_col = 0)"
   ]
  },
  {
   "cell_type": "code",
   "execution_count": 27,
   "metadata": {},
   "outputs": [
    {
     "data": {
      "text/html": [
       "<div>\n",
       "<style scoped>\n",
       "    .dataframe tbody tr th:only-of-type {\n",
       "        vertical-align: middle;\n",
       "    }\n",
       "\n",
       "    .dataframe tbody tr th {\n",
       "        vertical-align: top;\n",
       "    }\n",
       "\n",
       "    .dataframe thead th {\n",
       "        text-align: right;\n",
       "    }\n",
       "</style>\n",
       "<table border=\"1\" class=\"dataframe\">\n",
       "  <thead>\n",
       "    <tr style=\"text-align: right;\">\n",
       "      <th></th>\n",
       "      <th>total_pymnt</th>\n",
       "      <th>out_prncp</th>\n",
       "      <th>loan_amnt</th>\n",
       "      <th>installment</th>\n",
       "      <th>total_rec_late_fee</th>\n",
       "      <th>int_rate</th>\n",
       "      <th>term</th>\n",
       "      <th>dti</th>\n",
       "      <th>revol_util</th>\n",
       "      <th>annual_inc</th>\n",
       "      <th>revol_bal</th>\n",
       "      <th>bc_open_to_buy</th>\n",
       "      <th>tot_hi_cred_lim</th>\n",
       "      <th>mo_sin_old_rev_tl_op</th>\n",
       "      <th>bc_util</th>\n",
       "      <th>loan_status</th>\n",
       "    </tr>\n",
       "  </thead>\n",
       "  <tbody>\n",
       "    <tr>\n",
       "      <td>39733</td>\n",
       "      <td>572.57</td>\n",
       "      <td>12688.29</td>\n",
       "      <td>13000</td>\n",
       "      <td>295.66</td>\n",
       "      <td>0.0</td>\n",
       "      <td>12.98</td>\n",
       "      <td>1</td>\n",
       "      <td>21.90</td>\n",
       "      <td>47.2</td>\n",
       "      <td>52000.0</td>\n",
       "      <td>16320</td>\n",
       "      <td>9280.0</td>\n",
       "      <td>140185.0</td>\n",
       "      <td>173.0</td>\n",
       "      <td>63.8</td>\n",
       "      <td>0</td>\n",
       "    </tr>\n",
       "    <tr>\n",
       "      <td>39734</td>\n",
       "      <td>750.81</td>\n",
       "      <td>9095.92</td>\n",
       "      <td>9450</td>\n",
       "      <td>382.31</td>\n",
       "      <td>0.0</td>\n",
       "      <td>26.31</td>\n",
       "      <td>0</td>\n",
       "      <td>15.06</td>\n",
       "      <td>23.5</td>\n",
       "      <td>42000.0</td>\n",
       "      <td>14791</td>\n",
       "      <td>23518.0</td>\n",
       "      <td>283111.0</td>\n",
       "      <td>209.0</td>\n",
       "      <td>38.3</td>\n",
       "      <td>0</td>\n",
       "    </tr>\n",
       "    <tr>\n",
       "      <td>39735</td>\n",
       "      <td>305.19</td>\n",
       "      <td>2363.11</td>\n",
       "      <td>2500</td>\n",
       "      <td>104.39</td>\n",
       "      <td>0.0</td>\n",
       "      <td>28.72</td>\n",
       "      <td>0</td>\n",
       "      <td>11.38</td>\n",
       "      <td>82.5</td>\n",
       "      <td>142000.0</td>\n",
       "      <td>4540</td>\n",
       "      <td>0.0</td>\n",
       "      <td>48167.0</td>\n",
       "      <td>275.0</td>\n",
       "      <td>100.9</td>\n",
       "      <td>0</td>\n",
       "    </tr>\n",
       "    <tr>\n",
       "      <td>39739</td>\n",
       "      <td>592.85</td>\n",
       "      <td>8559.71</td>\n",
       "      <td>9000</td>\n",
       "      <td>285.41</td>\n",
       "      <td>0.0</td>\n",
       "      <td>8.81</td>\n",
       "      <td>0</td>\n",
       "      <td>12.77</td>\n",
       "      <td>7.2</td>\n",
       "      <td>75900.0</td>\n",
       "      <td>2558</td>\n",
       "      <td>20301.0</td>\n",
       "      <td>68088.0</td>\n",
       "      <td>221.0</td>\n",
       "      <td>9.8</td>\n",
       "      <td>0</td>\n",
       "    </tr>\n",
       "    <tr>\n",
       "      <td>39741</td>\n",
       "      <td>839.58</td>\n",
       "      <td>7476.28</td>\n",
       "      <td>8000</td>\n",
       "      <td>284.87</td>\n",
       "      <td>0.0</td>\n",
       "      <td>16.91</td>\n",
       "      <td>0</td>\n",
       "      <td>39.43</td>\n",
       "      <td>41.2</td>\n",
       "      <td>42000.0</td>\n",
       "      <td>18572</td>\n",
       "      <td>12191.0</td>\n",
       "      <td>69683.0</td>\n",
       "      <td>99.0</td>\n",
       "      <td>55.5</td>\n",
       "      <td>0</td>\n",
       "    </tr>\n",
       "  </tbody>\n",
       "</table>\n",
       "</div>"
      ],
      "text/plain": [
       "       total_pymnt  out_prncp  loan_amnt  installment  total_rec_late_fee  \\\n",
       "39733       572.57   12688.29      13000       295.66                 0.0   \n",
       "39734       750.81    9095.92       9450       382.31                 0.0   \n",
       "39735       305.19    2363.11       2500       104.39                 0.0   \n",
       "39739       592.85    8559.71       9000       285.41                 0.0   \n",
       "39741       839.58    7476.28       8000       284.87                 0.0   \n",
       "\n",
       "       int_rate  term    dti  revol_util  annual_inc  revol_bal  \\\n",
       "39733     12.98     1  21.90        47.2     52000.0      16320   \n",
       "39734     26.31     0  15.06        23.5     42000.0      14791   \n",
       "39735     28.72     0  11.38        82.5    142000.0       4540   \n",
       "39739      8.81     0  12.77         7.2     75900.0       2558   \n",
       "39741     16.91     0  39.43        41.2     42000.0      18572   \n",
       "\n",
       "       bc_open_to_buy  tot_hi_cred_lim  mo_sin_old_rev_tl_op  bc_util  \\\n",
       "39733          9280.0         140185.0                 173.0     63.8   \n",
       "39734         23518.0         283111.0                 209.0     38.3   \n",
       "39735             0.0          48167.0                 275.0    100.9   \n",
       "39739         20301.0          68088.0                 221.0      9.8   \n",
       "39741         12191.0          69683.0                  99.0     55.5   \n",
       "\n",
       "       loan_status  \n",
       "39733            0  \n",
       "39734            0  \n",
       "39735            0  \n",
       "39739            0  \n",
       "39741            0  "
      ]
     },
     "execution_count": 27,
     "metadata": {},
     "output_type": "execute_result"
    }
   ],
   "source": [
    "model_data.head()"
   ]
  },
  {
   "cell_type": "code",
   "execution_count": 28,
   "metadata": {},
   "outputs": [],
   "source": [
    "Y = model_data['loan_status']\n",
    "X = model_data.drop(\"loan_status\", 1)"
   ]
  },
  {
   "cell_type": "code",
   "execution_count": 29,
   "metadata": {},
   "outputs": [],
   "source": [
    "from sklearn.model_selection import train_test_split\n",
    "\n",
    "X_train, X_test, y_train, y_test = train_test_split(X,Y,test_size=0.3)"
   ]
  },
  {
   "cell_type": "code",
   "execution_count": 30,
   "metadata": {},
   "outputs": [],
   "source": [
    "from sklearn.metrics import roc_auc_score"
   ]
  },
  {
   "cell_type": "markdown",
   "metadata": {},
   "source": [
    "Initially I run a basic GBM model with only 3 trees which gives me a ROC-AUC score of 50%. <br> This tells me that I would need to get optimal hyperparameters for a better model."
   ]
  },
  {
   "cell_type": "code",
   "execution_count": 31,
   "metadata": {},
   "outputs": [
    {
     "data": {
      "text/plain": [
       "0.5"
      ]
     },
     "execution_count": 31,
     "metadata": {},
     "output_type": "execute_result"
    }
   ],
   "source": [
    "# run a simple model\n",
    "params = {'n_estimators': 3,'max_leaf_nodes':6,'learning_rate': 0.1, 'random_state':1}\n",
    "model = ensemble.GradientBoostingClassifier(**params)\n",
    "model.fit(X_train, y_train)\n",
    "\n",
    "roc_auc_score(y_test, model.predict(X_test))"
   ]
  },
  {
   "cell_type": "markdown",
   "metadata": {},
   "source": [
    "### Parameter Tuning"
   ]
  },
  {
   "cell_type": "markdown",
   "metadata": {},
   "source": [
    "To find the optimal combination of hyper-parameters of the GBM model, I have created a grid search function to try different combinations and select the parameters that provide the model with the highest accuracy."
   ]
  },
  {
   "cell_type": "code",
   "execution_count": 32,
   "metadata": {},
   "outputs": [],
   "source": [
    "def grid_search(n_est, max_f, l_r, max_lnodes, min_splits, X, Y):\n",
    "    results = pd.DataFrame(columns=[\"# Trees\", \"Max Features\", \"Learning Rate\",\n",
    "                                    \"Max Leaf Nodes\", \"Min Split\",\"AUC\"])\n",
    "    \n",
    "    for n_estimators in tqdm(n_est):\n",
    "            for max_features in max_f:\n",
    "                    for learning_rate in l_r:\n",
    "                        for max_leaf_nodes in max_lnodes:\n",
    "                                for min_samples_split in min_splits:\n",
    "            \n",
    "                                    params = {'n_estimators': n_estimators,  \n",
    "                                      'max_features':max_features,'max_leaf_nodes':max_leaf_nodes, \n",
    "                                      'learning_rate': learning_rate, \n",
    "                                      'min_samples_split': min_samples_split,\n",
    "                                      'subsample':0.8, 'random_state':1}\n",
    "                                    model = ensemble.GradientBoostingClassifier(**params)\n",
    "                                    model.fit(X, Y)\n",
    "                                    results.loc[len(results)]=[n_estimators, max_features, learning_rate,\n",
    "                                                   max_leaf_nodes, min_samples_split,\n",
    "                                                   roc_auc_score(y_test, model.predict(X_test))]\n",
    "    return results"
   ]
  },
  {
   "cell_type": "code",
   "execution_count": 33,
   "metadata": {},
   "outputs": [
    {
     "name": "stdout",
     "output_type": "stream",
     "text": [
      "Enter 1 to run Grid Search.\n",
      "Enter 2 to Ignore.\n",
      "2\n",
      "Reading last processed Grid Search Results....DONE.\n"
     ]
    }
   ],
   "source": [
    "run_grids = input(\"Enter 1 to run Grid Search.\\nEnter 2 to Ignore.\\n\")\n",
    "if run_grids == '1':\n",
    "    results1 = grid_search([30,50], ['auto'], [0.1, 0.5, 0.7], [6, 8, 12, 16, 20], [0.00001, 0.1, 0.2, 0.3])\n",
    "    save_csv(results1, 'gs_results1')\n",
    "else:\n",
    "    print(\"Reading last processed Grid Search Results...\", end='')\n",
    "    results_gs = pd.read_csv('data/gs_results1.csv')\n",
    "    print(\".DONE.\")"
   ]
  },
  {
   "cell_type": "markdown",
   "metadata": {},
   "source": [
    "#### Model with best tuned parameters"
   ]
  },
  {
   "cell_type": "code",
   "execution_count": null,
   "metadata": {},
   "outputs": [],
   "source": [
    "After getting the best parameters, I train the model using them and I get 94% ROC_AUC score."
   ]
  },
  {
   "cell_type": "code",
   "execution_count": 36,
   "metadata": {},
   "outputs": [
    {
     "name": "stdout",
     "output_type": "stream",
     "text": [
      "      Iter       Train Loss      OOB Improve   Remaining Time \n",
      "         1           0.4984           0.2276            2.29m\n",
      "         2           0.4340           0.0643            2.47m\n",
      "         3           0.3248           0.1082            2.43m\n",
      "         4           0.2911           0.0337            2.25m\n",
      "         5           0.2404           0.0512            2.23m\n",
      "         6           0.2156           0.0248            2.09m\n",
      "         7           0.1921           0.0237            1.95m\n",
      "         8           0.1785           0.0128            1.83m\n",
      "         9           0.1686           0.0098            1.72m\n",
      "        10           0.1550           0.0140            1.65m\n",
      "        20           0.1129           0.0056           48.52s\n",
      "        30           0.0961           0.0007            0.00s\n"
     ]
    },
    {
     "data": {
      "text/plain": [
       "0.9468967796559089"
      ]
     },
     "execution_count": 36,
     "metadata": {},
     "output_type": "execute_result"
    }
   ],
   "source": [
    "# Best model from Grid Search Results\n",
    "params =  params = {'n_estimators': 30, 'max_features': 'auto','max_leaf_nodes': 20,\n",
    "                    'learning_rate': 0.7, 'min_samples_split': 0.00001,\n",
    "                    'subsample':0.8, 'random_state':1, 'verbose': 1}\n",
    "model_best = ensemble.GradientBoostingClassifier(**params)\n",
    "model_best.fit(X_train, y_train)\n",
    "\n",
    "roc_auc_score(y_test, model_best.predict(X_test))"
   ]
  },
  {
   "cell_type": "code",
   "execution_count": 37,
   "metadata": {},
   "outputs": [
    {
     "data": {
      "text/plain": [
       "array([[586605,    788],\n",
       "       [  8260,  70508]], dtype=int64)"
      ]
     },
     "execution_count": 37,
     "metadata": {},
     "output_type": "execute_result"
    }
   ],
   "source": [
    "from sklearn.metrics import confusion_matrix\n",
    "\n",
    "confusion_matrix(y_test, model_best.predict(X_test))"
   ]
  },
  {
   "cell_type": "code",
   "execution_count": 38,
   "metadata": {},
   "outputs": [],
   "source": [
    "save_model(model_best, 1)"
   ]
  },
  {
   "cell_type": "markdown",
   "metadata": {},
   "source": [
    "The best model is saved as it can be used for business analysis later."
   ]
  },
  {
   "cell_type": "code",
   "execution_count": 39,
   "metadata": {},
   "outputs": [],
   "source": [
    "model_best = load_model('GBM_30_1.sav')"
   ]
  },
  {
   "cell_type": "markdown",
   "metadata": {},
   "source": [
    "### Data Preparation for Business Analysis"
   ]
  },
  {
   "cell_type": "code",
   "execution_count": 40,
   "metadata": {},
   "outputs": [],
   "source": [
    "default_probs = model_best.predict_proba(X_test)[:,1]"
   ]
  },
  {
   "cell_type": "code",
   "execution_count": 41,
   "metadata": {},
   "outputs": [],
   "source": [
    "business_GBM = pd.DataFrame({'Default_Prob': default_probs, 'Loan_amt' : X_test['loan_amnt'], 'term': X_test['term'] , 'target': y_test})"
   ]
  },
  {
   "cell_type": "code",
   "execution_count": 42,
   "metadata": {},
   "outputs": [],
   "source": [
    "business_GBM.to_csv('business_analysis_data/business_GBM.csv')"
   ]
  }
 ],
 "metadata": {
  "kernelspec": {
   "display_name": "Python 3",
   "language": "python",
   "name": "python3"
  },
  "language_info": {
   "codemirror_mode": {
    "name": "ipython",
    "version": 3
   },
   "file_extension": ".py",
   "mimetype": "text/x-python",
   "name": "python",
   "nbconvert_exporter": "python",
   "pygments_lexer": "ipython3",
   "version": "3.7.3"
  }
 },
 "nbformat": 4,
 "nbformat_minor": 2
}
