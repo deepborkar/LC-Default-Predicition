{
 "cells": [
  {
   "cell_type": "markdown",
   "metadata": {},
   "source": [
    "# Neural Network - Lending Club Loan Default Prediction"
   ]
  },
  {
   "cell_type": "markdown",
   "metadata": {},
   "source": [
    "Neural Networks are equally powerful and popular as GBM. "
   ]
  },
  {
   "cell_type": "code",
   "execution_count": 2,
   "metadata": {},
   "outputs": [],
   "source": [
    "#Neural Network - Deep Borkar\n",
    "import pandas as pd\n",
    "import numpy as np\n",
    "import matplotlib.pyplot as plt\n",
    "from sklearn import ensemble\n",
    "from sklearn.model_selection import train_test_split\n",
    "\n",
    "import pickle\n",
    "from tqdm import tqdm_notebook as tqdm\n",
    "import warnings\n",
    "warnings.filterwarnings('ignore')"
   ]
  },
  {
   "cell_type": "code",
   "execution_count": 3,
   "metadata": {},
   "outputs": [],
   "source": [
    "model_data = pd.read_csv('data/existing_customers.csv', index_col=0)"
   ]
  },
  {
   "cell_type": "code",
   "execution_count": 4,
   "metadata": {},
   "outputs": [
    {
     "data": {
      "text/html": [
       "<div>\n",
       "<style scoped>\n",
       "    .dataframe tbody tr th:only-of-type {\n",
       "        vertical-align: middle;\n",
       "    }\n",
       "\n",
       "    .dataframe tbody tr th {\n",
       "        vertical-align: top;\n",
       "    }\n",
       "\n",
       "    .dataframe thead th {\n",
       "        text-align: right;\n",
       "    }\n",
       "</style>\n",
       "<table border=\"1\" class=\"dataframe\">\n",
       "  <thead>\n",
       "    <tr style=\"text-align: right;\">\n",
       "      <th></th>\n",
       "      <th>total_pymnt</th>\n",
       "      <th>out_prncp</th>\n",
       "      <th>loan_amnt</th>\n",
       "      <th>installment</th>\n",
       "      <th>total_rec_late_fee</th>\n",
       "      <th>int_rate</th>\n",
       "      <th>term</th>\n",
       "      <th>dti</th>\n",
       "      <th>revol_util</th>\n",
       "      <th>annual_inc</th>\n",
       "      <th>revol_bal</th>\n",
       "      <th>bc_open_to_buy</th>\n",
       "      <th>tot_hi_cred_lim</th>\n",
       "      <th>mo_sin_old_rev_tl_op</th>\n",
       "      <th>bc_util</th>\n",
       "      <th>loan_status</th>\n",
       "    </tr>\n",
       "  </thead>\n",
       "  <tbody>\n",
       "    <tr>\n",
       "      <td>39733</td>\n",
       "      <td>572.57</td>\n",
       "      <td>12688.29</td>\n",
       "      <td>13000</td>\n",
       "      <td>295.66</td>\n",
       "      <td>0.0</td>\n",
       "      <td>12.98</td>\n",
       "      <td>1</td>\n",
       "      <td>21.90</td>\n",
       "      <td>47.2</td>\n",
       "      <td>52000.0</td>\n",
       "      <td>16320</td>\n",
       "      <td>9280.0</td>\n",
       "      <td>140185.0</td>\n",
       "      <td>173.0</td>\n",
       "      <td>63.8</td>\n",
       "      <td>0</td>\n",
       "    </tr>\n",
       "    <tr>\n",
       "      <td>39734</td>\n",
       "      <td>750.81</td>\n",
       "      <td>9095.92</td>\n",
       "      <td>9450</td>\n",
       "      <td>382.31</td>\n",
       "      <td>0.0</td>\n",
       "      <td>26.31</td>\n",
       "      <td>0</td>\n",
       "      <td>15.06</td>\n",
       "      <td>23.5</td>\n",
       "      <td>42000.0</td>\n",
       "      <td>14791</td>\n",
       "      <td>23518.0</td>\n",
       "      <td>283111.0</td>\n",
       "      <td>209.0</td>\n",
       "      <td>38.3</td>\n",
       "      <td>0</td>\n",
       "    </tr>\n",
       "    <tr>\n",
       "      <td>39735</td>\n",
       "      <td>305.19</td>\n",
       "      <td>2363.11</td>\n",
       "      <td>2500</td>\n",
       "      <td>104.39</td>\n",
       "      <td>0.0</td>\n",
       "      <td>28.72</td>\n",
       "      <td>0</td>\n",
       "      <td>11.38</td>\n",
       "      <td>82.5</td>\n",
       "      <td>142000.0</td>\n",
       "      <td>4540</td>\n",
       "      <td>0.0</td>\n",
       "      <td>48167.0</td>\n",
       "      <td>275.0</td>\n",
       "      <td>100.9</td>\n",
       "      <td>0</td>\n",
       "    </tr>\n",
       "    <tr>\n",
       "      <td>39739</td>\n",
       "      <td>592.85</td>\n",
       "      <td>8559.71</td>\n",
       "      <td>9000</td>\n",
       "      <td>285.41</td>\n",
       "      <td>0.0</td>\n",
       "      <td>8.81</td>\n",
       "      <td>0</td>\n",
       "      <td>12.77</td>\n",
       "      <td>7.2</td>\n",
       "      <td>75900.0</td>\n",
       "      <td>2558</td>\n",
       "      <td>20301.0</td>\n",
       "      <td>68088.0</td>\n",
       "      <td>221.0</td>\n",
       "      <td>9.8</td>\n",
       "      <td>0</td>\n",
       "    </tr>\n",
       "    <tr>\n",
       "      <td>39741</td>\n",
       "      <td>839.58</td>\n",
       "      <td>7476.28</td>\n",
       "      <td>8000</td>\n",
       "      <td>284.87</td>\n",
       "      <td>0.0</td>\n",
       "      <td>16.91</td>\n",
       "      <td>0</td>\n",
       "      <td>39.43</td>\n",
       "      <td>41.2</td>\n",
       "      <td>42000.0</td>\n",
       "      <td>18572</td>\n",
       "      <td>12191.0</td>\n",
       "      <td>69683.0</td>\n",
       "      <td>99.0</td>\n",
       "      <td>55.5</td>\n",
       "      <td>0</td>\n",
       "    </tr>\n",
       "  </tbody>\n",
       "</table>\n",
       "</div>"
      ],
      "text/plain": [
       "       total_pymnt  out_prncp  loan_amnt  installment  total_rec_late_fee  \\\n",
       "39733       572.57   12688.29      13000       295.66                 0.0   \n",
       "39734       750.81    9095.92       9450       382.31                 0.0   \n",
       "39735       305.19    2363.11       2500       104.39                 0.0   \n",
       "39739       592.85    8559.71       9000       285.41                 0.0   \n",
       "39741       839.58    7476.28       8000       284.87                 0.0   \n",
       "\n",
       "       int_rate  term    dti  revol_util  annual_inc  revol_bal  \\\n",
       "39733     12.98     1  21.90        47.2     52000.0      16320   \n",
       "39734     26.31     0  15.06        23.5     42000.0      14791   \n",
       "39735     28.72     0  11.38        82.5    142000.0       4540   \n",
       "39739      8.81     0  12.77         7.2     75900.0       2558   \n",
       "39741     16.91     0  39.43        41.2     42000.0      18572   \n",
       "\n",
       "       bc_open_to_buy  tot_hi_cred_lim  mo_sin_old_rev_tl_op  bc_util  \\\n",
       "39733          9280.0         140185.0                 173.0     63.8   \n",
       "39734         23518.0         283111.0                 209.0     38.3   \n",
       "39735             0.0          48167.0                 275.0    100.9   \n",
       "39739         20301.0          68088.0                 221.0      9.8   \n",
       "39741         12191.0          69683.0                  99.0     55.5   \n",
       "\n",
       "       loan_status  \n",
       "39733            0  \n",
       "39734            0  \n",
       "39735            0  \n",
       "39739            0  \n",
       "39741            0  "
      ]
     },
     "execution_count": 4,
     "metadata": {},
     "output_type": "execute_result"
    }
   ],
   "source": [
    "model_data.head()"
   ]
  },
  {
   "cell_type": "code",
   "execution_count": 5,
   "metadata": {},
   "outputs": [],
   "source": [
    "Y = model_data['loan_status']\n",
    "X = model_data.drop(\"loan_status\", 1)"
   ]
  },
  {
   "cell_type": "code",
   "execution_count": 6,
   "metadata": {},
   "outputs": [],
   "source": [
    "X_train, X_test, y_train, y_test = train_test_split(X, Y, test_size=0.4)"
   ]
  },
  {
   "cell_type": "code",
   "execution_count": 7,
   "metadata": {},
   "outputs": [],
   "source": [
    "# Feature Scaling\n",
    "from sklearn.preprocessing import StandardScaler\n",
    "sc = StandardScaler()\n",
    "X_train_sc = sc.fit_transform(X_train)\n",
    "X_test_sc = sc.transform(X_test)"
   ]
  },
  {
   "cell_type": "code",
   "execution_count": 8,
   "metadata": {},
   "outputs": [],
   "source": [
    "y_train = np.array(y_train)\n",
    "y_test = np.array(y_test)"
   ]
  },
  {
   "cell_type": "code",
   "execution_count": 9,
   "metadata": {},
   "outputs": [],
   "source": [
    "import tensorflow.keras\n",
    "from tensorflow.keras import backend\n",
    "from tensorflow.keras.models import Sequential\n",
    "from tensorflow.keras.layers import Dense"
   ]
  },
  {
   "cell_type": "markdown",
   "metadata": {},
   "source": [
    "### Parameter Tuning "
   ]
  },
  {
   "cell_type": "markdown",
   "metadata": {},
   "source": [
    "Performing a Grid Search to find optimal parameters for the Neural Network.<br> Here we try to find the best combination of batch size, epoch and activation function."
   ]
  },
  {
   "cell_type": "code",
   "execution_count": 10,
   "metadata": {},
   "outputs": [
    {
     "name": "stderr",
     "output_type": "stream",
     "text": [
      "Using TensorFlow backend.\n"
     ]
    }
   ],
   "source": [
    "# fine tuning with Grid Search\n",
    "from keras.wrappers.scikit_learn import KerasClassifier\n",
    "from sklearn.model_selection import GridSearchCV\n",
    "\n",
    "def build_classifier(optimizer):\n",
    "    # first step: create a Sequential object, as a sequence of layers. B/C NN is a sequence of layers.\n",
    "    classifier = Sequential()\n",
    "    # add the first hidden layer\n",
    "    classifier.add(Dense(units=6,kernel_initializer='glorot_uniform',\n",
    "                    activation = 'relu'))\n",
    "    # add the second hidden layer\n",
    "    classifier.add(Dense(units=6,kernel_initializer='glorot_uniform',\n",
    "                    activation = 'relu'))\n",
    "    # add the output layer\n",
    "    classifier.add(Dense(units=1,kernel_initializer='glorot_uniform',\n",
    "                    activation = 'sigmoid'))\n",
    "    # compiling the NN\n",
    "    classifier.compile(optimizer=optimizer,loss='binary_crossentropy',metrics=['accuracy'])\n",
    "    return classifier"
   ]
  },
  {
   "cell_type": "code",
   "execution_count": 11,
   "metadata": {},
   "outputs": [],
   "source": [
    "if False:\n",
    "    classifier = KerasClassifier(build_fn=build_classifier)\n",
    "\n",
    "# create a dictionary of hyper-parameters to optimize\n",
    "    parameters = {'batch_size':[10,20,30], 'nb_epoch':[1,2,3],'optimizer':['adam','rmsprop']}\n",
    "    grid_search = GridSearchCV(estimator = classifier, param_grid = parameters, scoring = 'accuracy', cv=3)\n",
    "    grid_search = grid_search.fit(X_train_sc[int(0.95*len(X_train_sc)):],y_train[int(0.95*len(X_train_sc)):], verbose=2)\n",
    "\n",
    "    best_parameters = grid_search.best_params_ \n",
    "    best_accuracy = grid_search.best_score_"
   ]
  },
  {
   "cell_type": "code",
   "execution_count": 12,
   "metadata": {},
   "outputs": [],
   "source": [
    "classifier = Sequential()\n",
    "\n",
    "# add the first hidden layer\n",
    "classifier.add(Dense(units=5,kernel_initializer='glorot_uniform',\n",
    "                    activation = 'relu'))\n",
    "\n",
    "# add the second hidden layer\n",
    "classifier.add(Dense(units=5,kernel_initializer='glorot_uniform',\n",
    "                    activation = 'relu'))\n",
    "\n",
    "# add the output layer\n",
    "classifier.add(Dense(units=1,kernel_initializer='glorot_uniform',\n",
    "                    activation = 'sigmoid'))\n",
    "\n",
    "# compiling the NN\n",
    "classifier.compile(optimizer='rmsprop',loss='binary_crossentropy',metrics=['accuracy'])"
   ]
  },
  {
   "cell_type": "code",
   "execution_count": 13,
   "metadata": {},
   "outputs": [
    {
     "name": "stdout",
     "output_type": "stream",
     "text": [
      "Train on 1332320 samples\n",
      "Epoch 1/3\n",
      "1332320/1332320 - 224s - loss: 0.0578 - accuracy: 0.9851\n",
      "Epoch 2/3\n",
      "1332320/1332320 - 218s - loss: 0.0525 - accuracy: 0.9885\n",
      "Epoch 3/3\n",
      "1332320/1332320 - 218s - loss: 0.0509 - accuracy: 0.9881\n"
     ]
    },
    {
     "data": {
      "text/plain": [
       "<tensorflow.python.keras.callbacks.History at 0x2a4dd42d940>"
      ]
     },
     "execution_count": 13,
     "metadata": {},
     "output_type": "execute_result"
    }
   ],
   "source": [
    "classifier.fit(X_train_sc,y_train,batch_size=10,epochs=3, verbose=2)"
   ]
  },
  {
   "cell_type": "code",
   "execution_count": 14,
   "metadata": {},
   "outputs": [
    {
     "name": "stdout",
     "output_type": "stream",
     "text": [
      "Model: \"sequential\"\n",
      "_________________________________________________________________\n",
      "Layer (type)                 Output Shape              Param #   \n",
      "=================================================================\n",
      "dense (Dense)                multiple                  80        \n",
      "_________________________________________________________________\n",
      "dense_1 (Dense)              multiple                  30        \n",
      "_________________________________________________________________\n",
      "dense_2 (Dense)              multiple                  6         \n",
      "=================================================================\n",
      "Total params: 116\n",
      "Trainable params: 116\n",
      "Non-trainable params: 0\n",
      "_________________________________________________________________\n"
     ]
    }
   ],
   "source": [
    "classifier.summary()"
   ]
  },
  {
   "cell_type": "code",
   "execution_count": 15,
   "metadata": {},
   "outputs": [],
   "source": [
    "y_pred = classifier.predict_proba(X_test_sc)\n",
    "y_pred = (y_pred > 0.5)"
   ]
  },
  {
   "cell_type": "code",
   "execution_count": 16,
   "metadata": {},
   "outputs": [
    {
     "data": {
      "text/plain": [
       "array([[782286,    508],\n",
       "       [ 10763,  94657]], dtype=int64)"
      ]
     },
     "execution_count": 16,
     "metadata": {},
     "output_type": "execute_result"
    }
   ],
   "source": [
    "from sklearn.metrics import confusion_matrix\n",
    "\n",
    "confusion_matrix(y_test, y_pred)"
   ]
  },
  {
   "cell_type": "code",
   "execution_count": 17,
   "metadata": {},
   "outputs": [],
   "source": [
    "default_probs = classifier.predict_proba(X_test_sc)"
   ]
  },
  {
   "cell_type": "code",
   "execution_count": 18,
   "metadata": {},
   "outputs": [],
   "source": [
    "business_NN = pd.DataFrame({'Default_Prob': default_probs[:,0], 'Loan_amt' : X_test['loan_amnt'], 'term': X_test['term'] ,'target': y_test})"
   ]
  },
  {
   "cell_type": "code",
   "execution_count": 19,
   "metadata": {},
   "outputs": [],
   "source": [
    "business_NN.to_csv('business_analysis_data/business_NN.csv')"
   ]
  }
 ],
 "metadata": {
  "kernelspec": {
   "display_name": "Python 3",
   "language": "python",
   "name": "python3"
  },
  "language_info": {
   "codemirror_mode": {
    "name": "ipython",
    "version": 3
   },
   "file_extension": ".py",
   "mimetype": "text/x-python",
   "name": "python",
   "nbconvert_exporter": "python",
   "pygments_lexer": "ipython3",
   "version": "3.7.3"
  }
 },
 "nbformat": 4,
 "nbformat_minor": 2
}
