{
 "cells": [
  {
   "cell_type": "markdown",
   "metadata": {},
   "source": [
    "# Business Analysis on Loan Portfolio - Lending Club Default Prediction"
   ]
  },
  {
   "cell_type": "markdown",
   "metadata": {},
   "source": [
    "For the business analysis, I have used the untouched new customers data I set aside during data preprocessing.<br><br>\n",
    "This is a basic analysis to explain the approach of using a Machine Learning model to make business decisions."
   ]
  },
  {
   "cell_type": "code",
   "execution_count": 149,
   "metadata": {},
   "outputs": [],
   "source": [
    "#Analysis- Deep Borkar\n",
    "import pandas as pd\n",
    "import numpy as np\n",
    "import matplotlib.pyplot as plt\n",
    "import random\n",
    "import pickle\n",
    "from sklearn import ensemble\n",
    "\n",
    "\n",
    "from tqdm import tqdm_notebook as tqdm\n",
    "import warnings\n",
    "warnings.filterwarnings('ignore')"
   ]
  },
  {
   "cell_type": "code",
   "execution_count": 150,
   "metadata": {},
   "outputs": [],
   "source": [
    "new_customers = pd.read_csv('data/new_customers.csv', index_col = 0)\n",
    "new_customers.drop(['loan_status'], axis=1, inplace=True)"
   ]
  },
  {
   "cell_type": "markdown",
   "metadata": {},
   "source": [
    "The Risk-Free rate as of Dec - 2019 is used for estimating the interest rate for No arbitrage loans."
   ]
  },
  {
   "cell_type": "code",
   "execution_count": 151,
   "metadata": {},
   "outputs": [],
   "source": [
    "risk_free = 0.01895"
   ]
  },
  {
   "cell_type": "code",
   "execution_count": 152,
   "metadata": {},
   "outputs": [],
   "source": [
    "business_GBM = pd.read_csv('business_analysis_data/business_GBM.csv', index_col=0)\n",
    "business_NN = pd.read_csv('business_analysis_data/business_NN.csv', index_col=0)\n",
    "business_LR = pd.read_csv('business_analysis_data/business_LR.csv', index_col=0)"
   ]
  },
  {
   "cell_type": "markdown",
   "metadata": {},
   "source": [
    "### Calculating Bad Rate"
   ]
  },
  {
   "cell_type": "markdown",
   "metadata": {},
   "source": [
    "Using the existing customers default probabilities, I put them in 10 buckets from 0 to 1 divided in 10 equal parts.<br><br>\n",
    "\n",
    "For each bucket, the number of defaults is i considered as the Bad Rate"
   ]
  },
  {
   "cell_type": "code",
   "execution_count": 153,
   "metadata": {},
   "outputs": [],
   "source": [
    "def calc_bad_rate(df):\n",
    "    df['bucket'] = pd.cut(df['Default_Prob'], [i/10 for i in range(0,11)])\n",
    "\n",
    "    def_bucket = df.groupby('bucket')['target'].value_counts().unstack()\n",
    "\n",
    "    def_bucket['Bad_rate'] = def_bucket[1] / (def_bucket[0] + def_bucket[1])\n",
    "    \n",
    "    def_bucket['Rank'] = def_bucket['Bad_rate'].rank(method='min')\n",
    "    return def_bucket"
   ]
  },
  {
   "cell_type": "code",
   "execution_count": 154,
   "metadata": {},
   "outputs": [],
   "source": [
    "br_GBM = calc_bad_rate(business_GBM)\n",
    "br_NN = calc_bad_rate(business_NN)\n",
    "br_LR = calc_bad_rate(business_LR)"
   ]
  },
  {
   "cell_type": "markdown",
   "metadata": {},
   "source": [
    "### Calculating Interest rate"
   ]
  },
  {
   "cell_type": "markdown",
   "metadata": {},
   "source": [
    "For each bucket, an interest rate is calculated considering a payoff equivalent to a risk-free rate if the loan does not default."
   ]
  },
  {
   "cell_type": "code",
   "execution_count": 155,
   "metadata": {},
   "outputs": [],
   "source": [
    "def calc_interest(df):\n",
    "    df['Interest_rate'] =  (((1+risk_free) / (1 -  df['Bad_rate'])) - 1)"
   ]
  },
  {
   "cell_type": "code",
   "execution_count": 156,
   "metadata": {},
   "outputs": [],
   "source": [
    "calc_interest(br_GBM)\n",
    "calc_interest(br_NN)\n",
    "calc_interest(br_LR)"
   ]
  },
  {
   "cell_type": "code",
   "execution_count": 157,
   "metadata": {},
   "outputs": [
    {
     "data": {
      "text/html": [
       "<div>\n",
       "<style scoped>\n",
       "    .dataframe tbody tr th:only-of-type {\n",
       "        vertical-align: middle;\n",
       "    }\n",
       "\n",
       "    .dataframe tbody tr th {\n",
       "        vertical-align: top;\n",
       "    }\n",
       "\n",
       "    .dataframe thead th {\n",
       "        text-align: right;\n",
       "    }\n",
       "</style>\n",
       "<table border=\"1\" class=\"dataframe\">\n",
       "  <thead>\n",
       "    <tr style=\"text-align: right;\">\n",
       "      <th>target</th>\n",
       "      <th>0</th>\n",
       "      <th>1</th>\n",
       "      <th>Bad_rate</th>\n",
       "      <th>Rank</th>\n",
       "      <th>Interest_rate</th>\n",
       "    </tr>\n",
       "    <tr>\n",
       "      <th>bucket</th>\n",
       "      <th></th>\n",
       "      <th></th>\n",
       "      <th></th>\n",
       "      <th></th>\n",
       "      <th></th>\n",
       "    </tr>\n",
       "  </thead>\n",
       "  <tbody>\n",
       "    <tr>\n",
       "      <td>(0.0, 0.1]</td>\n",
       "      <td>570780</td>\n",
       "      <td>3706</td>\n",
       "      <td>0.006451</td>\n",
       "      <td>1.0</td>\n",
       "      <td>0.025566</td>\n",
       "    </tr>\n",
       "    <tr>\n",
       "      <td>(0.1, 0.2]</td>\n",
       "      <td>10758</td>\n",
       "      <td>1489</td>\n",
       "      <td>0.121581</td>\n",
       "      <td>2.0</td>\n",
       "      <td>0.159981</td>\n",
       "    </tr>\n",
       "    <tr>\n",
       "      <td>(0.2, 0.3]</td>\n",
       "      <td>3182</td>\n",
       "      <td>1093</td>\n",
       "      <td>0.255673</td>\n",
       "      <td>3.0</td>\n",
       "      <td>0.368954</td>\n",
       "    </tr>\n",
       "    <tr>\n",
       "      <td>(0.3, 0.4]</td>\n",
       "      <td>1332</td>\n",
       "      <td>972</td>\n",
       "      <td>0.421875</td>\n",
       "      <td>4.0</td>\n",
       "      <td>0.762508</td>\n",
       "    </tr>\n",
       "    <tr>\n",
       "      <td>(0.4, 0.5]</td>\n",
       "      <td>553</td>\n",
       "      <td>1000</td>\n",
       "      <td>0.643915</td>\n",
       "      <td>5.0</td>\n",
       "      <td>1.861536</td>\n",
       "    </tr>\n",
       "    <tr>\n",
       "      <td>(0.5, 0.6]</td>\n",
       "      <td>299</td>\n",
       "      <td>1083</td>\n",
       "      <td>0.783647</td>\n",
       "      <td>6.0</td>\n",
       "      <td>3.709662</td>\n",
       "    </tr>\n",
       "    <tr>\n",
       "      <td>(0.6, 0.7]</td>\n",
       "      <td>186</td>\n",
       "      <td>1355</td>\n",
       "      <td>0.879299</td>\n",
       "      <td>7.0</td>\n",
       "      <td>7.441946</td>\n",
       "    </tr>\n",
       "    <tr>\n",
       "      <td>(0.7, 0.8]</td>\n",
       "      <td>154</td>\n",
       "      <td>1810</td>\n",
       "      <td>0.921589</td>\n",
       "      <td>8.0</td>\n",
       "      <td>11.994921</td>\n",
       "    </tr>\n",
       "    <tr>\n",
       "      <td>(0.8, 0.9]</td>\n",
       "      <td>89</td>\n",
       "      <td>3081</td>\n",
       "      <td>0.971924</td>\n",
       "      <td>9.0</td>\n",
       "      <td>35.292938</td>\n",
       "    </tr>\n",
       "    <tr>\n",
       "      <td>(0.9, 1.0]</td>\n",
       "      <td>60</td>\n",
       "      <td>63179</td>\n",
       "      <td>0.999051</td>\n",
       "      <td>10.0</td>\n",
       "      <td>1072.956317</td>\n",
       "    </tr>\n",
       "  </tbody>\n",
       "</table>\n",
       "</div>"
      ],
      "text/plain": [
       "target           0      1  Bad_rate  Rank  Interest_rate\n",
       "bucket                                                  \n",
       "(0.0, 0.1]  570780   3706  0.006451   1.0       0.025566\n",
       "(0.1, 0.2]   10758   1489  0.121581   2.0       0.159981\n",
       "(0.2, 0.3]    3182   1093  0.255673   3.0       0.368954\n",
       "(0.3, 0.4]    1332    972  0.421875   4.0       0.762508\n",
       "(0.4, 0.5]     553   1000  0.643915   5.0       1.861536\n",
       "(0.5, 0.6]     299   1083  0.783647   6.0       3.709662\n",
       "(0.6, 0.7]     186   1355  0.879299   7.0       7.441946\n",
       "(0.7, 0.8]     154   1810  0.921589   8.0      11.994921\n",
       "(0.8, 0.9]      89   3081  0.971924   9.0      35.292938\n",
       "(0.9, 1.0]      60  63179  0.999051  10.0    1072.956317"
      ]
     },
     "execution_count": 157,
     "metadata": {},
     "output_type": "execute_result"
    }
   ],
   "source": [
    "br_GBM"
   ]
  },
  {
   "cell_type": "markdown",
   "metadata": {},
   "source": [
    "Using the GBM Model for business analysis, I have chosen the cut-off of default probabilty of 0.3. <br> This can be considered as the future Credit policy while approving loans and assigning interest rates.\n",
    "<br><br>\n",
    "This is a simple approach to build a structure of decision making model."
   ]
  },
  {
   "cell_type": "code",
   "execution_count": 158,
   "metadata": {},
   "outputs": [
    {
     "data": {
      "text/html": [
       "<div>\n",
       "<style scoped>\n",
       "    .dataframe tbody tr th:only-of-type {\n",
       "        vertical-align: middle;\n",
       "    }\n",
       "\n",
       "    .dataframe tbody tr th {\n",
       "        vertical-align: top;\n",
       "    }\n",
       "\n",
       "    .dataframe thead th {\n",
       "        text-align: right;\n",
       "    }\n",
       "</style>\n",
       "<table border=\"1\" class=\"dataframe\">\n",
       "  <thead>\n",
       "    <tr style=\"text-align: right;\">\n",
       "      <th>target</th>\n",
       "      <th>0</th>\n",
       "      <th>1</th>\n",
       "      <th>Bad_rate</th>\n",
       "      <th>Rank</th>\n",
       "      <th>Interest_rate</th>\n",
       "    </tr>\n",
       "    <tr>\n",
       "      <th>bucket</th>\n",
       "      <th></th>\n",
       "      <th></th>\n",
       "      <th></th>\n",
       "      <th></th>\n",
       "      <th></th>\n",
       "    </tr>\n",
       "  </thead>\n",
       "  <tbody>\n",
       "    <tr>\n",
       "      <td>(0.0, 0.1]</td>\n",
       "      <td>570780</td>\n",
       "      <td>3706</td>\n",
       "      <td>0.006451</td>\n",
       "      <td>1.0</td>\n",
       "      <td>0.025566</td>\n",
       "    </tr>\n",
       "    <tr>\n",
       "      <td>(0.1, 0.2]</td>\n",
       "      <td>10758</td>\n",
       "      <td>1489</td>\n",
       "      <td>0.121581</td>\n",
       "      <td>2.0</td>\n",
       "      <td>0.159981</td>\n",
       "    </tr>\n",
       "    <tr>\n",
       "      <td>(0.2, 0.3]</td>\n",
       "      <td>3182</td>\n",
       "      <td>1093</td>\n",
       "      <td>0.255673</td>\n",
       "      <td>3.0</td>\n",
       "      <td>0.368954</td>\n",
       "    </tr>\n",
       "  </tbody>\n",
       "</table>\n",
       "</div>"
      ],
      "text/plain": [
       "target           0     1  Bad_rate  Rank  Interest_rate\n",
       "bucket                                                 \n",
       "(0.0, 0.1]  570780  3706  0.006451   1.0       0.025566\n",
       "(0.1, 0.2]   10758  1489  0.121581   2.0       0.159981\n",
       "(0.2, 0.3]    3182  1093  0.255673   3.0       0.368954"
      ]
     },
     "execution_count": 158,
     "metadata": {},
     "output_type": "execute_result"
    }
   ],
   "source": [
    "credit_policy = br_GBM[0:3]\n",
    "credit_policy"
   ]
  },
  {
   "cell_type": "code",
   "execution_count": 159,
   "metadata": {
    "scrolled": true
   },
   "outputs": [],
   "source": [
    "business_GBM['Interest'] = business_GBM['bucket'].map(br_GBM['Interest_rate'])"
   ]
  },
  {
   "cell_type": "code",
   "execution_count": 160,
   "metadata": {},
   "outputs": [],
   "source": [
    "business_GBM['term'] = business_GBM['term'].map({0:3, 1: 5})"
   ]
  },
  {
   "cell_type": "markdown",
   "metadata": {},
   "source": [
    "### Calculating PMT"
   ]
  },
  {
   "cell_type": "code",
   "execution_count": 1,
   "metadata": {},
   "outputs": [
    {
     "data": {
      "image/png": "[encoded data removed]",
      "text/plain": [
       "<IPython.core.display.Image object>"
      ]
     },
     "metadata": {},
     "output_type": "display_data"
    }
   ],
   "source": [
    "from IPython.display import Image, display\n",
    "display(Image(filename='pmt.png'))"
   ]
  },
  {
   "cell_type": "markdown",
   "metadata": {},
   "source": [
    "As we know the duration of each loan, we can use it to calculate the PMT - payment per period for each loan using the interest rates as per our Credit Policy."
   ]
  },
  {
   "cell_type": "code",
   "execution_count": 161,
   "metadata": {},
   "outputs": [],
   "source": [
    "business_GBM['PMT'] = (business_GBM['Interest'].astype(np.float64) * business_GBM['Loan_amt']) / (1 - ((1 + business_GBM['Interest'].astype(np.float64))**(-1*business_GBM['term'])))"
   ]
  },
  {
   "cell_type": "code",
   "execution_count": 162,
   "metadata": {},
   "outputs": [],
   "source": [
    "business_GBM['bad_rate'] = business_GBM['bucket'].map(br_GBM['Bad_rate'])"
   ]
  },
  {
   "cell_type": "code",
   "execution_count": 163,
   "metadata": {},
   "outputs": [
    {
     "data": {
      "text/html": [
       "<div>\n",
       "<style scoped>\n",
       "    .dataframe tbody tr th:only-of-type {\n",
       "        vertical-align: middle;\n",
       "    }\n",
       "\n",
       "    .dataframe tbody tr th {\n",
       "        vertical-align: top;\n",
       "    }\n",
       "\n",
       "    .dataframe thead th {\n",
       "        text-align: right;\n",
       "    }\n",
       "</style>\n",
       "<table border=\"1\" class=\"dataframe\">\n",
       "  <thead>\n",
       "    <tr style=\"text-align: right;\">\n",
       "      <th></th>\n",
       "      <th>Default_Prob</th>\n",
       "      <th>Loan_amt</th>\n",
       "      <th>term</th>\n",
       "      <th>target</th>\n",
       "      <th>bucket</th>\n",
       "      <th>Interest</th>\n",
       "      <th>PMT</th>\n",
       "      <th>bad_rate</th>\n",
       "    </tr>\n",
       "  </thead>\n",
       "  <tbody>\n",
       "    <tr>\n",
       "      <td>1379948</td>\n",
       "      <td>0.002871</td>\n",
       "      <td>4000</td>\n",
       "      <td>3</td>\n",
       "      <td>0</td>\n",
       "      <td>(0.0, 0.1]</td>\n",
       "      <td>0.025566</td>\n",
       "      <td>1.402083e+03</td>\n",
       "      <td>0.006451</td>\n",
       "    </tr>\n",
       "    <tr>\n",
       "      <td>2003149</td>\n",
       "      <td>0.107010</td>\n",
       "      <td>27450</td>\n",
       "      <td>5</td>\n",
       "      <td>1</td>\n",
       "      <td>(0.1, 0.2]</td>\n",
       "      <td>0.159981</td>\n",
       "      <td>8.383125e+03</td>\n",
       "      <td>0.121581</td>\n",
       "    </tr>\n",
       "    <tr>\n",
       "      <td>1164725</td>\n",
       "      <td>0.013710</td>\n",
       "      <td>33100</td>\n",
       "      <td>5</td>\n",
       "      <td>0</td>\n",
       "      <td>(0.0, 0.1]</td>\n",
       "      <td>0.025566</td>\n",
       "      <td>7.136282e+03</td>\n",
       "      <td>0.006451</td>\n",
       "    </tr>\n",
       "    <tr>\n",
       "      <td>1085009</td>\n",
       "      <td>0.995184</td>\n",
       "      <td>4800</td>\n",
       "      <td>3</td>\n",
       "      <td>1</td>\n",
       "      <td>(0.9, 1.0]</td>\n",
       "      <td>1072.956317</td>\n",
       "      <td>5.150190e+06</td>\n",
       "      <td>0.999051</td>\n",
       "    </tr>\n",
       "    <tr>\n",
       "      <td>264018</td>\n",
       "      <td>0.000874</td>\n",
       "      <td>3500</td>\n",
       "      <td>3</td>\n",
       "      <td>0</td>\n",
       "      <td>(0.0, 0.1]</td>\n",
       "      <td>0.025566</td>\n",
       "      <td>1.226822e+03</td>\n",
       "      <td>0.006451</td>\n",
       "    </tr>\n",
       "    <tr>\n",
       "      <td>...</td>\n",
       "      <td>...</td>\n",
       "      <td>...</td>\n",
       "      <td>...</td>\n",
       "      <td>...</td>\n",
       "      <td>...</td>\n",
       "      <td>...</td>\n",
       "      <td>...</td>\n",
       "      <td>...</td>\n",
       "    </tr>\n",
       "    <tr>\n",
       "      <td>1828742</td>\n",
       "      <td>0.004307</td>\n",
       "      <td>24000</td>\n",
       "      <td>3</td>\n",
       "      <td>0</td>\n",
       "      <td>(0.0, 0.1]</td>\n",
       "      <td>0.025566</td>\n",
       "      <td>8.412496e+03</td>\n",
       "      <td>0.006451</td>\n",
       "    </tr>\n",
       "    <tr>\n",
       "      <td>1756567</td>\n",
       "      <td>0.999998</td>\n",
       "      <td>12000</td>\n",
       "      <td>3</td>\n",
       "      <td>1</td>\n",
       "      <td>(0.9, 1.0]</td>\n",
       "      <td>1072.956317</td>\n",
       "      <td>1.287548e+07</td>\n",
       "      <td>0.999051</td>\n",
       "    </tr>\n",
       "    <tr>\n",
       "      <td>1496409</td>\n",
       "      <td>0.999888</td>\n",
       "      <td>30000</td>\n",
       "      <td>5</td>\n",
       "      <td>1</td>\n",
       "      <td>(0.9, 1.0]</td>\n",
       "      <td>1072.956317</td>\n",
       "      <td>3.218869e+07</td>\n",
       "      <td>0.999051</td>\n",
       "    </tr>\n",
       "    <tr>\n",
       "      <td>820691</td>\n",
       "      <td>0.960920</td>\n",
       "      <td>11000</td>\n",
       "      <td>3</td>\n",
       "      <td>1</td>\n",
       "      <td>(0.9, 1.0]</td>\n",
       "      <td>1072.956317</td>\n",
       "      <td>1.180252e+07</td>\n",
       "      <td>0.999051</td>\n",
       "    </tr>\n",
       "    <tr>\n",
       "      <td>1804172</td>\n",
       "      <td>0.009701</td>\n",
       "      <td>3000</td>\n",
       "      <td>3</td>\n",
       "      <td>0</td>\n",
       "      <td>(0.0, 0.1]</td>\n",
       "      <td>0.025566</td>\n",
       "      <td>1.051562e+03</td>\n",
       "      <td>0.006451</td>\n",
       "    </tr>\n",
       "  </tbody>\n",
       "</table>\n",
       "<p>666161 rows × 8 columns</p>\n",
       "</div>"
      ],
      "text/plain": [
       "         Default_Prob  Loan_amt  term  target      bucket     Interest  \\\n",
       "1379948      0.002871      4000     3       0  (0.0, 0.1]     0.025566   \n",
       "2003149      0.107010     27450     5       1  (0.1, 0.2]     0.159981   \n",
       "1164725      0.013710     33100     5       0  (0.0, 0.1]     0.025566   \n",
       "1085009      0.995184      4800     3       1  (0.9, 1.0]  1072.956317   \n",
       "264018       0.000874      3500     3       0  (0.0, 0.1]     0.025566   \n",
       "...               ...       ...   ...     ...         ...          ...   \n",
       "1828742      0.004307     24000     3       0  (0.0, 0.1]     0.025566   \n",
       "1756567      0.999998     12000     3       1  (0.9, 1.0]  1072.956317   \n",
       "1496409      0.999888     30000     5       1  (0.9, 1.0]  1072.956317   \n",
       "820691       0.960920     11000     3       1  (0.9, 1.0]  1072.956317   \n",
       "1804172      0.009701      3000     3       0  (0.0, 0.1]     0.025566   \n",
       "\n",
       "                  PMT  bad_rate  \n",
       "1379948  1.402083e+03  0.006451  \n",
       "2003149  8.383125e+03  0.121581  \n",
       "1164725  7.136282e+03  0.006451  \n",
       "1085009  5.150190e+06  0.999051  \n",
       "264018   1.226822e+03  0.006451  \n",
       "...               ...       ...  \n",
       "1828742  8.412496e+03  0.006451  \n",
       "1756567  1.287548e+07  0.999051  \n",
       "1496409  3.218869e+07  0.999051  \n",
       "820691   1.180252e+07  0.999051  \n",
       "1804172  1.051562e+03  0.006451  \n",
       "\n",
       "[666161 rows x 8 columns]"
      ]
     },
     "execution_count": 163,
     "metadata": {},
     "output_type": "execute_result"
    }
   ],
   "source": [
    "business_GBM"
   ]
  },
  {
   "cell_type": "code",
   "execution_count": 164,
   "metadata": {},
   "outputs": [],
   "source": [
    "def load_model(name):\n",
    "    name = 'models/' + name\n",
    "    return pickle.load(open(name, 'rb'))\n",
    "\n",
    "credit_model =  load_model('GBM_30_1.sav')"
   ]
  },
  {
   "cell_type": "code",
   "execution_count": 167,
   "metadata": {},
   "outputs": [
    {
     "data": {
      "text/plain": [
       "(40134, 4)"
      ]
     },
     "execution_count": 167,
     "metadata": {},
     "output_type": "execute_result"
    }
   ],
   "source": [
    "prob_default_newC.shape"
   ]
  },
  {
   "cell_type": "code",
   "execution_count": 168,
   "metadata": {},
   "outputs": [],
   "source": [
    "prob_default_newC = pd.DataFrame(credit_model.predict_proba(new_customers)[:,1], index=new_customers.index, columns = ['Default_prob'])\n",
    "\n",
    "prob_default_newC['Predicted_Status'] = credit_model.predict(new_customers)\n",
    "\n",
    "prob_default_newC['Loan_amount'] = new_customers['loan_amnt']\n",
    "prob_default_newC['Term'] = new_customers['term'] \n",
    "\n",
    "prob_default_newC['Term'] = prob_default_newC['Term'].map({0:3, 1: 5})"
   ]
  },
  {
   "cell_type": "code",
   "execution_count": 169,
   "metadata": {},
   "outputs": [],
   "source": [
    "#reject_ind = prob_default_newC[prob_default_newC.Default_prob > credit_policy['Bad_rate'].iloc[2]].index\n",
    "#prob_default_newC.drop(reject_ind, axis=0, inplace=True)"
   ]
  },
  {
   "cell_type": "code",
   "execution_count": 180,
   "metadata": {},
   "outputs": [],
   "source": [
    "def assign_int(pd):\n",
    "    cutoff_1, int_rt_1 = credit_policy['Bad_rate'].iloc[0], credit_policy['Interest_rate'].iloc[0]\n",
    "    cutoff_2, int_rt_2 = credit_policy['Bad_rate'].iloc[1], credit_policy['Interest_rate'].iloc[1]\n",
    "    cutoff_3, int_rt_3 = credit_policy['Bad_rate'].iloc[2], credit_policy['Interest_rate'].iloc[2]\n",
    "    \n",
    "    if pd > 0 and pd <= cutoff_1:\n",
    "        return int_rt_1\n",
    "    elif pd > cutoff_1 and pd <= cutoff_2:\n",
    "        return int_rt_2\n",
    "    elif pd > cutoff_2: #and pd <= cutoff_3:\n",
    "        return int_rt_3\n",
    "    else:\n",
    "        return np.nan\n",
    "\n",
    "int_list = []\n",
    "for i in range(prob_default_newC.shape[0]):\n",
    "    int_list.append(assign_int(prob_default_newC.Default_prob.iloc[i]))\n",
    "    \n",
    "prob_default_newC['Interest_rate'] = int_list"
   ]
  },
  {
   "cell_type": "code",
   "execution_count": 181,
   "metadata": {},
   "outputs": [],
   "source": [
    "prob_default_newC['PMT'] = (prob_default_newC['Interest_rate'].astype(np.float64) * prob_default_newC['Loan_amount']) / (1 - ((1 + prob_default_newC['Interest_rate'].astype(np.float64))**(-1*prob_default_newC['Term'])))\n",
    "prob_default_newC['PMT'] = prob_default_newC['PMT'].round(2)"
   ]
  },
  {
   "cell_type": "markdown",
   "metadata": {},
   "source": [
    "### Calculating Net Present Value"
   ]
  },
  {
   "cell_type": "code",
   "execution_count": 2,
   "metadata": {},
   "outputs": [
    {
     "data": {
      "image/png": "[encoded data removed]",
      "text/plain": [
       "<IPython.core.display.Image object>"
      ]
     },
     "metadata": {},
     "output_type": "display_data"
    }
   ],
   "source": [
    "from IPython.display import Image, display\n",
    "display(Image(filename='npv.png'))"
   ]
  },
  {
   "cell_type": "markdown",
   "metadata": {},
   "source": [
    "Using the Credit Policy and PMT, we can find out the Net Present Value (NPV) for each loan.<br><br>\n",
    "Initial Investment = Loan Amount <br>\n",
    "Cash Flow = PMT each period<br>\n",
    "r = risk-free rate <br><br>\n",
    "Every Cash Flow is discounted to check if the loan funded will be profitable or not."
   ]
  },
  {
   "cell_type": "code",
   "execution_count": 182,
   "metadata": {},
   "outputs": [],
   "source": [
    "def calc_NPV(pmt, dr, cf0, pd, t):\n",
    "    cfs = [cf0]\n",
    "    pnd = 1 - pd\n",
    "    for n in range(1,t+1):\n",
    "        pvcf = (pmt * (pnd ** n)) / ((1 + risk_free)**n)\n",
    "        cfs.append(pvcf)\n",
    "    return sum(cfs)    "
   ]
  },
  {
   "cell_type": "code",
   "execution_count": 183,
   "metadata": {},
   "outputs": [
    {
     "data": {
      "text/plain": [
       "0    40118\n",
       "1       16\n",
       "Name: Predicted_Status, dtype: int64"
      ]
     },
     "execution_count": 183,
     "metadata": {},
     "output_type": "execute_result"
    }
   ],
   "source": [
    "prob_default_newC.Predicted_Status.value_counts()"
   ]
  },
  {
   "cell_type": "code",
   "execution_count": 184,
   "metadata": {},
   "outputs": [
    {
     "data": {
      "application/vnd.jupyter.widget-view+json": {
       "model_id": "093dd40ba1f741c0b9d4714746d39480",
       "version_major": 2,
       "version_minor": 0
      },
      "text/plain": [
       "HBox(children=(IntProgress(value=0, max=40134), HTML(value='')))"
      ]
     },
     "metadata": {},
     "output_type": "display_data"
    },
    {
     "name": "stdout",
     "output_type": "stream",
     "text": [
      "\n"
     ]
    }
   ],
   "source": [
    "npv = []\n",
    "for i in tqdm(range(prob_default_newC.shape[0])):\n",
    "    inst = prob_default_newC['PMT'].iloc[i]\n",
    "    cf0 = prob_default_newC['Loan_amount'].iloc[i] * -1\n",
    "    pd = prob_default_newC['Default_prob'].iloc[i]\n",
    "    t = prob_default_newC['Term'].iloc[i]\n",
    "    npv.append(calc_NPV(inst, risk_free, cf0, pd, t))"
   ]
  },
  {
   "cell_type": "code",
   "execution_count": 185,
   "metadata": {},
   "outputs": [],
   "source": [
    "prob_default_newC['NPV'] = npv"
   ]
  },
  {
   "cell_type": "code",
   "execution_count": 190,
   "metadata": {},
   "outputs": [
    {
     "data": {
      "text/plain": [
       "12250113.54426239"
      ]
     },
     "execution_count": 190,
     "metadata": {},
     "output_type": "execute_result"
    }
   ],
   "source": [
    "prob_default_newC.NPV.sum()"
   ]
  },
  {
   "cell_type": "code",
   "execution_count": 191,
   "metadata": {},
   "outputs": [
    {
     "data": {
      "text/plain": [
       "637843075"
      ]
     },
     "execution_count": 191,
     "metadata": {},
     "output_type": "execute_result"
    }
   ],
   "source": [
    "prob_default_newC.Loan_amount.sum()"
   ]
  },
  {
   "cell_type": "markdown",
   "metadata": {},
   "source": [
    "### Calculating Overall Loan Portfolio Return"
   ]
  },
  {
   "cell_type": "markdown",
   "metadata": {},
   "source": [
    "The Loan Portfolio Return is marginally higher than the risk-free rate. This is due to the interest income earned. "
   ]
  },
  {
   "cell_type": "code",
   "execution_count": 192,
   "metadata": {},
   "outputs": [
    {
     "data": {
      "text/plain": [
       "0.019205528796032458"
      ]
     },
     "execution_count": 192,
     "metadata": {},
     "output_type": "execute_result"
    }
   ],
   "source": [
    "12250113.54426239 / 637843075"
   ]
  },
  {
   "cell_type": "code",
   "execution_count": 195,
   "metadata": {},
   "outputs": [
    {
     "data": {
      "text/html": [
       "<div>\n",
       "<style scoped>\n",
       "    .dataframe tbody tr th:only-of-type {\n",
       "        vertical-align: middle;\n",
       "    }\n",
       "\n",
       "    .dataframe tbody tr th {\n",
       "        vertical-align: top;\n",
       "    }\n",
       "\n",
       "    .dataframe thead th {\n",
       "        text-align: right;\n",
       "    }\n",
       "</style>\n",
       "<table border=\"1\" class=\"dataframe\">\n",
       "  <thead>\n",
       "    <tr style=\"text-align: right;\">\n",
       "      <th></th>\n",
       "      <th>NPV</th>\n",
       "    </tr>\n",
       "    <tr>\n",
       "      <th>Interest_rate</th>\n",
       "      <th></th>\n",
       "    </tr>\n",
       "  </thead>\n",
       "  <tbody>\n",
       "    <tr>\n",
       "      <td>0.025566</td>\n",
       "      <td>9.483046e+06</td>\n",
       "    </tr>\n",
       "    <tr>\n",
       "      <td>0.159981</td>\n",
       "      <td>2.630719e+06</td>\n",
       "    </tr>\n",
       "    <tr>\n",
       "      <td>0.368954</td>\n",
       "      <td>1.363479e+05</td>\n",
       "    </tr>\n",
       "  </tbody>\n",
       "</table>\n",
       "</div>"
      ],
      "text/plain": [
       "                        NPV\n",
       "Interest_rate              \n",
       "0.025566       9.483046e+06\n",
       "0.159981       2.630719e+06\n",
       "0.368954       1.363479e+05"
      ]
     },
     "execution_count": 195,
     "metadata": {},
     "output_type": "execute_result"
    }
   ],
   "source": [
    "npv_br = prob_default_newC.groupby('Interest_rate')['NPV'].sum().to_frame()"
   ]
  },
  {
   "cell_type": "code",
   "execution_count": 198,
   "metadata": {},
   "outputs": [],
   "source": [
    "npv_br['Bad_rate'] = credit_policy['Bad_rate'].values"
   ]
  },
  {
   "cell_type": "code",
   "execution_count": 199,
   "metadata": {},
   "outputs": [
    {
     "data": {
      "text/html": [
       "<div>\n",
       "<style scoped>\n",
       "    .dataframe tbody tr th:only-of-type {\n",
       "        vertical-align: middle;\n",
       "    }\n",
       "\n",
       "    .dataframe tbody tr th {\n",
       "        vertical-align: top;\n",
       "    }\n",
       "\n",
       "    .dataframe thead th {\n",
       "        text-align: right;\n",
       "    }\n",
       "</style>\n",
       "<table border=\"1\" class=\"dataframe\">\n",
       "  <thead>\n",
       "    <tr style=\"text-align: right;\">\n",
       "      <th></th>\n",
       "      <th>NPV</th>\n",
       "      <th>Bad_rate</th>\n",
       "    </tr>\n",
       "    <tr>\n",
       "      <th>Interest_rate</th>\n",
       "      <th></th>\n",
       "      <th></th>\n",
       "    </tr>\n",
       "  </thead>\n",
       "  <tbody>\n",
       "    <tr>\n",
       "      <td>0.025566</td>\n",
       "      <td>9.483046e+06</td>\n",
       "      <td>0.006451</td>\n",
       "    </tr>\n",
       "    <tr>\n",
       "      <td>0.159981</td>\n",
       "      <td>2.630719e+06</td>\n",
       "      <td>0.121581</td>\n",
       "    </tr>\n",
       "    <tr>\n",
       "      <td>0.368954</td>\n",
       "      <td>1.363479e+05</td>\n",
       "      <td>0.255673</td>\n",
       "    </tr>\n",
       "  </tbody>\n",
       "</table>\n",
       "</div>"
      ],
      "text/plain": [
       "                        NPV  Bad_rate\n",
       "Interest_rate                        \n",
       "0.025566       9.483046e+06  0.006451\n",
       "0.159981       2.630719e+06  0.121581\n",
       "0.368954       1.363479e+05  0.255673"
      ]
     },
     "execution_count": 199,
     "metadata": {},
     "output_type": "execute_result"
    }
   ],
   "source": [
    "npv_br"
   ]
  },
  {
   "cell_type": "markdown",
   "metadata": {},
   "source": [
    "### Conclusion"
   ]
  },
  {
   "cell_type": "markdown",
   "metadata": {},
   "source": [
    "The purpose of this project is to learn from implementation of Data Science and Machine Learning concepts. It is important to apply these concepts in a real-world application.\n",
    "<br>I would keep updating this project as I keep learning and researching new Machine Learning Techniques."
   ]
  },
  {
   "cell_type": "markdown",
   "metadata": {},
   "source": [
    "Created by: Deep Borkar<br>\n",
    "Email: deepyborkar@gmail.com\n",
    "Presentation: https://www.slideshare.net/DeepBorkar1/default-prediction-analysis-on-lending-club-loan-data"
   ]
  }
 ],
 "metadata": {
  "kernelspec": {
   "display_name": "Python 3",
   "language": "python",
   "name": "python3"
  },
  "language_info": {
   "codemirror_mode": {
    "name": "ipython",
    "version": 3
   },
   "file_extension": ".py",
   "mimetype": "text/x-python",
   "name": "python",
   "nbconvert_exporter": "python",
   "pygments_lexer": "ipython3",
   "version": "3.7.3"
  }
 },
 "nbformat": 4,
 "nbformat_minor": 2
}
